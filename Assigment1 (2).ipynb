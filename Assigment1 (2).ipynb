{
  "nbformat": 4,
  "nbformat_minor": 0,
  "metadata": {
    "colab": {
      "provenance": []
    },
    "kernelspec": {
      "name": "python3",
      "display_name": "Python 3"
    },
    "language_info": {
      "name": "python"
    }
  },
  "cells": [
    {
      "cell_type": "code",
      "execution_count": null,
      "metadata": {
        "id": "I5GJGaPngPwT"
      },
      "outputs": [],
      "source": []
    },
    {
      "cell_type": "markdown",
      "source": [
        "1. What is Python, and why is it popular ?\n",
        "Ans-Python is a high-level programming language known for its simple, readable syntax, almost like plain English. It's interpreted, meaning code runs line by line, making development faster.\n",
        "\n",
        " Is it popular because-\n",
        "Ans- Easy to Learn & Use: Simple syntax makes it beginner-friendly and fast to write.\n",
        "Versatile: Used in web development, data science, AI, automation, scripting, and more.\n",
        "Huge Libraries: Extensive built-in and third-party libraries (like NumPy, Pandas.) speed up development.\n",
        "Large Community: Strong support, lots of resources, and help available.\n",
        "Productive: Faster development cycles due to simplicity and libraries.\n"
      ],
      "metadata": {
        "id": "Q8ipNOabgUfZ"
      }
    },
    {
      "cell_type": "markdown",
      "source": [
        "2.  What is an interpreter in Python?\n",
        "Ans- The Python interpreter is the program that reads and executes your Python code instruction by instruction, translating it into actions the computer can understand on the fly."
      ],
      "metadata": {
        "id": "mnG-QhAjldOn"
      }
    },
    {
      "cell_type": "markdown",
      "source": [
        "3. What are pre-defined keywords in Python?\n",
        "Ans- Predefined keywords in Python are special reserved words that have specific meanings and purposes in the language, like if, for, while, def, and class. You can’t use them as names for variables, functions, or classes."
      ],
      "metadata": {
        "id": "Xpwjh-mBmcta"
      }
    },
    {
      "cell_type": "markdown",
      "source": [
        "4. Can keywords be used as variable names?\n",
        "Ans- No."
      ],
      "metadata": {
        "id": "z3XtbWm5nFXg"
      }
    },
    {
      "cell_type": "markdown",
      "source": [
        "5. What is mutability in Python?\n",
        "Ans- Mutability in Python refers to whether an object can be changed after it is created."
      ],
      "metadata": {
        "id": "jtxWys68nnTJ"
      }
    },
    {
      "cell_type": "markdown",
      "source": [
        "6. Why are lists mutable, but tuples are immutable?\n",
        "Ans- Lists are mutable because they are designed to allow changes like adding, removing, or modifying elements. Tuples are immutable to ensure their contents stay constant, which makes them safer for use as keys in dictionaries and improves performance."
      ],
      "metadata": {
        "id": "mv7UMImHoQNA"
      }
    },
    {
      "cell_type": "markdown",
      "source": [
        "7. What is the difference between “==” and “is” operators in Python?\n",
        "Ans- == (Equality Operator): Checks if the values of two objects are equal.\n",
        "is (Identity Operator): Checks if two variables refer to the exact same object in memory"
      ],
      "metadata": {
        "id": "-Golh2vco4JG"
      }
    },
    {
      "cell_type": "markdown",
      "source": [
        "8. What are logical operators in Python?\n",
        "Ans- Logical operators in Python are used to combine conditional statements. They are:\n",
        "\n",
        "and (True if both conditions are True)\n",
        "\n",
        "or (True if at least one condition is True)\n",
        "\n",
        "not (inverts the condition)"
      ],
      "metadata": {
        "id": "nbGAVznlpoab"
      }
    },
    {
      "cell_type": "markdown",
      "source": [
        "9. What is type casting in Python?\n",
        "Ans- Type casting in Python is the process of converting a variable's value from one data type to another (e.g., converting an integer to a string, or a string to a float) using built-in functions like int(), float(), str(), etc"
      ],
      "metadata": {
        "id": "CyRbYRtrqkVG"
      }
    },
    {
      "cell_type": "markdown",
      "source": [
        "10. What is the difference between implicit and explicit type casting?\n",
        "Ans- Implicit: Python converts types automatically (e.g., int to float in 1 + 2.0).\n",
        "  Explicit: You convert types manually using functions (e.g., int(\"10\"), str(5))"
      ],
      "metadata": {
        "id": "WTGn-dkyq6Hh"
      }
    },
    {
      "cell_type": "markdown",
      "source": [
        "11. What is the purpose of conditional statements in Python?\n",
        "Ans- The purpose of conditional statements in Python is to control the flow of a program by allowing certain blocks of code to run only when specific conditions are met. This helps in making decisions and executing different code paths based on varying inputs or situations."
      ],
      "metadata": {
        "id": "ykSsjYbzrmXf"
      }
    },
    {
      "cell_type": "markdown",
      "source": [
        "12. How does the elif statement work?\n",
        "Ans- The elif statement in Python stands for \"else if\" and lets you check multiple conditions after an initial if. It runs its block only if its condition is true and all previous if and elif conditions were false."
      ],
      "metadata": {
        "id": "3CJu0cG9sfBx"
      }
    },
    {
      "cell_type": "markdown",
      "source": [
        "13. What is the difference between for and while loops?\n",
        "Ans- A for loop is used when you want to iterate over a sequence (like a list, tuple, or range) a specific number of times. A while loop is used when you want to repeat code as long as a condition remains true, and the number of iterations is not fixed."
      ],
      "metadata": {
        "id": "vadyVtFKtMzR"
      }
    },
    {
      "cell_type": "markdown",
      "source": [
        "14. Describe a scenario where a while loop is more suitable than a for loop.\n",
        "Ans- Describe a scenario where a while loop is more suitable than a for loop.\n",
        "  password = \"\"\n",
        "while password != \"secret123\":\n",
        "    password = input(\"Enter the password: \")\n",
        "    if password != \"secret123\":\n",
        "        print(\"Incorrect password, try again.\")\n",
        "print(\"Access granted!\")"
      ],
      "metadata": {
        "id": "JsVEtO0_twGX"
      }
    },
    {
      "cell_type": "code",
      "source": [
        "# 1. Write a Python program to print \"Hello, World\""
      ],
      "metadata": {
        "id": "ssDS6RQiwxNN"
      },
      "execution_count": null,
      "outputs": []
    },
    {
      "cell_type": "code",
      "source": [
        "print(\"Hello world\")"
      ],
      "metadata": {
        "colab": {
          "base_uri": "https://localhost:8080/"
        },
        "id": "SOAA3oqSAwRJ",
        "outputId": "4ee000bc-7fb0-449d-a55a-9dc34601dfb0"
      },
      "execution_count": null,
      "outputs": [
        {
          "output_type": "stream",
          "name": "stdout",
          "text": [
            "Hello world\n"
          ]
        }
      ]
    },
    {
      "cell_type": "code",
      "source": [
        "# 2. Write a Python program that displays your name and age"
      ],
      "metadata": {
        "id": "9gXXYsE2BnnQ"
      },
      "execution_count": null,
      "outputs": []
    },
    {
      "cell_type": "code",
      "source": [
        "name=\"Debanjali\"\n",
        "age= 23\n",
        "print(\"My name is\", name)\n",
        "print(\"I am\",age, \"years old\")"
      ],
      "metadata": {
        "colab": {
          "base_uri": "https://localhost:8080/"
        },
        "id": "bBDk3JGgvka5",
        "outputId": "1e28bf24-19a0-4f74-b23c-02dfa621146f"
      },
      "execution_count": null,
      "outputs": [
        {
          "output_type": "stream",
          "name": "stdout",
          "text": [
            "My name is Debanjali\n",
            "I am 23 years old\n"
          ]
        }
      ]
    },
    {
      "cell_type": "markdown",
      "source": [],
      "metadata": {
        "id": "b9CZ8zWNwTsS"
      }
    },
    {
      "cell_type": "code",
      "source": [
        "#3. Write code to print all the pre-defined keywords in Python using the keyword library"
      ],
      "metadata": {
        "id": "Lss5yl5Mwnfv"
      },
      "execution_count": null,
      "outputs": []
    },
    {
      "cell_type": "code",
      "source": [
        "import keyword\n",
        "keywords_list = keyword.kwlist\n",
        "print(\"Python Keywords are:\")\n",
        "for kw in keywords_list:\n",
        "    print(kw)"
      ],
      "metadata": {
        "colab": {
          "base_uri": "https://localhost:8080/"
        },
        "id": "hJIEbmlcw2O6",
        "outputId": "19b8f781-78d8-4bfd-d84e-07f842ec0336"
      },
      "execution_count": null,
      "outputs": [
        {
          "output_type": "stream",
          "name": "stdout",
          "text": [
            "Python Keywords are:\n",
            "False\n",
            "None\n",
            "True\n",
            "and\n",
            "as\n",
            "assert\n",
            "async\n",
            "await\n",
            "break\n",
            "class\n",
            "continue\n",
            "def\n",
            "del\n",
            "elif\n",
            "else\n",
            "except\n",
            "finally\n",
            "for\n",
            "from\n",
            "global\n",
            "if\n",
            "import\n",
            "in\n",
            "is\n",
            "lambda\n",
            "nonlocal\n",
            "not\n",
            "or\n",
            "pass\n",
            "raise\n",
            "return\n",
            "try\n",
            "while\n",
            "with\n",
            "yield\n"
          ]
        }
      ]
    },
    {
      "cell_type": "markdown",
      "source": [],
      "metadata": {
        "id": "vTeZaUm0lTWf"
      }
    },
    {
      "cell_type": "code",
      "source": [
        "#4.Write a program that checks if a given word is a Python keyword."
      ],
      "metadata": {
        "id": "rBYJ6DfAjdlt"
      },
      "execution_count": null,
      "outputs": []
    },
    {
      "cell_type": "code",
      "source": [
        "import keyword\n",
        "\n",
        "def check_keyword(word):\n",
        "    if keyword.iskeyword(word):\n",
        "        print(f\"'{word}' is a Python keyword.\")\n",
        "    else:\n",
        "        print(f\"'{word}' is not a Python keyword.\")\n",
        "\n",
        "# Example usage\n",
        "user_input = input(\"Enter a word to check: \")\n",
        "check_keyword(user_input)"
      ],
      "metadata": {
        "colab": {
          "base_uri": "https://localhost:8080/"
        },
        "id": "_cqgpYZV8GbO",
        "outputId": "8f9517a0-d209-4a2f-8a1e-0d9386825fcb"
      },
      "execution_count": null,
      "outputs": [
        {
          "output_type": "stream",
          "name": "stdout",
          "text": [
            "Enter a word to check: while\n",
            "'while' is a Python keyword.\n"
          ]
        }
      ]
    },
    {
      "cell_type": "code",
      "source": [
        "#5.Create a list and tuple in Python, and demonstrate how attempting to change an element works differently\n",
        "for each."
      ],
      "metadata": {
        "id": "1ERLmFUQ8UGr"
      },
      "execution_count": null,
      "outputs": []
    },
    {
      "cell_type": "code",
      "source": [
        "my_list = [20, 40, 60]\n",
        "print(\"Original list:\", my_list)\n",
        "my_list[0] = 65\n",
        "print(\"Modified list:\", my_list)\n",
        "my_tuple = (20,40, 60)\n",
        "print(\"Original tuple:\", my_tuple)\n",
        "try:\n",
        "    my_tuple[0] = 85\n",
        "except TypeError as e:\n",
        "    print(\"Error when modifying tuple:\", e)\n"
      ],
      "metadata": {
        "colab": {
          "base_uri": "https://localhost:8080/"
        },
        "id": "oIgsk8b08Zr2",
        "outputId": "5582169b-eac8-4e97-b5a2-bd6c4292c9ef"
      },
      "execution_count": null,
      "outputs": [
        {
          "output_type": "stream",
          "name": "stdout",
          "text": [
            "Original list: [20, 40, 60]\n",
            "Modified list: [65, 40, 60]\n",
            "Original tuple: (20, 40, 60)\n",
            "Error when modifying tuple: 'tuple' object does not support item assignment\n"
          ]
        }
      ]
    },
    {
      "cell_type": "code",
      "source": [
        "#6. Write a function to demonstrate the behavior of mutable and immutable arguments."
      ],
      "metadata": {
        "id": "dXROT03t-KFx"
      },
      "execution_count": null,
      "outputs": []
    },
    {
      "cell_type": "code",
      "source": [
        "def demo_behaviour(imm,mut):\n",
        "    imm += 10\n",
        "    mut.append(100)\n",
        "    print(f\"Inside function: imm={imm},mut={mut}\")\n",
        "x=5\n",
        "y=[1,2,3]\n",
        "print(f\"Before:x={x},y={y}\")\n",
        "demo_behaviour(x,y)\n",
        "print(f\"after:x={x},y={y}\")"
      ],
      "metadata": {
        "colab": {
          "base_uri": "https://localhost:8080/"
        },
        "id": "zr4GAyoF-Q_m",
        "outputId": "4929f707-96a0-4d18-feb8-50ec8eba23da"
      },
      "execution_count": null,
      "outputs": [
        {
          "output_type": "stream",
          "name": "stdout",
          "text": [
            "Before:x=5,y=[1, 2, 3]\n",
            "Inside function: imm=15,mut=[1, 2, 3, 100]\n",
            "after:x=5,y=[1, 2, 3, 100]\n"
          ]
        }
      ]
    },
    {
      "cell_type": "code",
      "source": [
        "#7. Write a program that performs basic arithmetic operations on two user-input numbers."
      ],
      "metadata": {
        "id": "ghfbxPmPCOIX"
      },
      "execution_count": null,
      "outputs": []
    },
    {
      "cell_type": "code",
      "source": [
        "a= float(input(\"Enter first number:\"))\n",
        "b= float(input(\"Enter second number\"))\n",
        "print(\"Add:\",a+b)\n",
        "print(\"Sub:\",a-b)\n",
        "print(\"Mul:\",a*b)\n",
        "print(\"Div:\",a/b if b!=0 else\"cannot divide by zero\")"
      ],
      "metadata": {
        "colab": {
          "base_uri": "https://localhost:8080/"
        },
        "id": "yZ0SkFcMCawP",
        "outputId": "9a245e5c-4263-4ccc-ab1d-dbdb44bdaeb0"
      },
      "execution_count": null,
      "outputs": [
        {
          "output_type": "stream",
          "name": "stdout",
          "text": [
            "Enter first number:4\n",
            "Enter second number8\n",
            "Add: 12.0\n",
            "Sub: -4.0\n",
            "Mul: 32.0\n",
            "Div: 0.5\n"
          ]
        }
      ]
    },
    {
      "cell_type": "code",
      "source": [
        "#8. Write a program to demonstrate the use of logical operators."
      ],
      "metadata": {
        "id": "Kk0l8Q5gENgt"
      },
      "execution_count": null,
      "outputs": []
    },
    {
      "cell_type": "code",
      "source": [
        "a=bool(int(input(\"enter 1st value (0 or 1):\")))\n",
        "b=bool(int(input(\"enter 2nd value (0 or 1):\")))\n",
        "print(\"\\na AND b:\", a and b)\n",
        "print(\"a OR b:\",a or b)\n",
        "print(\"NOT a:\", not a)"
      ],
      "metadata": {
        "colab": {
          "base_uri": "https://localhost:8080/"
        },
        "id": "Mr-PS3VmEVta",
        "outputId": "e4d0a072-db15-4b50-f806-adbaa9a507f0"
      },
      "execution_count": null,
      "outputs": [
        {
          "output_type": "stream",
          "name": "stdout",
          "text": [
            "enter 1st value (0 or 1):1\n",
            "enter 2nd value (0 or 1):0\n",
            "\n",
            "a AND b: False\n",
            "a OR b: True\n",
            "NOT a: False\n"
          ]
        }
      ]
    },
    {
      "cell_type": "code",
      "source": [
        "#9. Write a Python program to convert user input from string to integer, float, and boolean types"
      ],
      "metadata": {
        "id": "sc3yXV26GvLk"
      },
      "execution_count": null,
      "outputs": []
    },
    {
      "cell_type": "code",
      "source": [
        "s = input(\"Enter a value:\")\n",
        "print(\"As int:\", int(s) if s.isdigit() else \"Invalid\")\n",
        "print(\"As floot:\", float(s) if s.replace('.','',1).isdigit()else \"Invalid\")\n",
        "print(\"As bool:\",bool(s))"
      ],
      "metadata": {
        "colab": {
          "base_uri": "https://localhost:8080/"
        },
        "id": "HoKKOdytG3PM",
        "outputId": "379a649c-170c-4851-fe71-670b6a0effe2"
      },
      "execution_count": null,
      "outputs": [
        {
          "output_type": "stream",
          "name": "stdout",
          "text": [
            "Enter a value:10\n",
            "As int: 10\n",
            "As floot: 10.0\n",
            "As bool: True\n"
          ]
        }
      ]
    },
    {
      "cell_type": "code",
      "source": [
        "#10. Write code to demonstrate type casting with list elements."
      ],
      "metadata": {
        "id": "fvENsHlDM5dI"
      },
      "execution_count": null,
      "outputs": []
    },
    {
      "cell_type": "code",
      "source": [
        "str_list = ['1', '2', '3', '4']\n",
        "print(\"Original list of strings:\", str_list)\n",
        "int_list = [int(item) for item in str_list]\n",
        "print(\"List after casting to integers:\", int_list)\n",
        "modified_list = [num + 10 for num in int_list]\n",
        "print(\"List after adding 10 to each element:\", modified_list)\n",
        "str_list_again = [str(item) for item in modified_list]\n",
        "print(\"List after casting back to strings:\", str_list_again)"
      ],
      "metadata": {
        "colab": {
          "base_uri": "https://localhost:8080/"
        },
        "id": "mWMr9_znM_7R",
        "outputId": "82856c8e-ab4a-41a8-dd44-eee5e9a0b7e5"
      },
      "execution_count": null,
      "outputs": [
        {
          "output_type": "stream",
          "name": "stdout",
          "text": [
            "Original list of strings: ['1', '2', '3', '4']\n",
            "List after casting to integers: [1, 2, 3, 4]\n",
            "List after adding 10 to each element: [11, 12, 13, 14]\n",
            "List after casting back to strings: ['11', '12', '13', '14']\n"
          ]
        }
      ]
    },
    {
      "cell_type": "code",
      "source": [
        "#11.  Write a program that checks if a number is positive, negative, or zero."
      ],
      "metadata": {
        "id": "HLQIiEA7O0O6"
      },
      "execution_count": null,
      "outputs": []
    },
    {
      "cell_type": "code",
      "source": [
        "num= float(input(\"Enter a number\"))\n",
        "if num>0:\n",
        "  print(\"Number is positive.\")\n",
        "elif num<0:\n",
        "  print(\"Number is negative.\")\n",
        "else:\n",
        "  print(\"Number is zero.\")"
      ],
      "metadata": {
        "colab": {
          "base_uri": "https://localhost:8080/"
        },
        "id": "PHLdXtgGO6g0",
        "outputId": "149da059-aa01-4ef8-9904-209708499750"
      },
      "execution_count": null,
      "outputs": [
        {
          "output_type": "stream",
          "name": "stdout",
          "text": [
            "Enter a number40\n",
            "Number is positive.\n"
          ]
        }
      ]
    },
    {
      "cell_type": "code",
      "source": [
        "#12. Write a for loop to print numbers from 1 to 10."
      ],
      "metadata": {
        "id": "mpfwfwrHQt5a"
      },
      "execution_count": null,
      "outputs": []
    },
    {
      "cell_type": "code",
      "source": [
        "for i in range(1,11):\n",
        "  print(i)"
      ],
      "metadata": {
        "colab": {
          "base_uri": "https://localhost:8080/"
        },
        "id": "JtRFI5UCQ11n",
        "outputId": "76aeca3b-944c-4957-8eb8-998146fd6e0f"
      },
      "execution_count": null,
      "outputs": [
        {
          "output_type": "stream",
          "name": "stdout",
          "text": [
            "1\n",
            "2\n",
            "3\n",
            "4\n",
            "5\n",
            "6\n",
            "7\n",
            "8\n",
            "9\n",
            "10\n"
          ]
        }
      ]
    },
    {
      "cell_type": "code",
      "source": [
        "#13. Write a Python program to find the sum of all even numbers between 1 and 50."
      ],
      "metadata": {
        "id": "XkuD0aEMRoli"
      },
      "execution_count": null,
      "outputs": []
    },
    {
      "cell_type": "code",
      "source": [
        "sum_of_evens= sum(range(2,30,2))\n",
        "print(\"sum of even number between 1 and 50:\", sum_of_evens)"
      ],
      "metadata": {
        "colab": {
          "base_uri": "https://localhost:8080/"
        },
        "id": "Deew_9yQRwoM",
        "outputId": "4d8703d8-11b4-4827-8e5f-d6788e014a2b"
      },
      "execution_count": null,
      "outputs": [
        {
          "output_type": "stream",
          "name": "stdout",
          "text": [
            "sum of even number between 1 and 50: 210\n"
          ]
        }
      ]
    },
    {
      "cell_type": "code",
      "source": [
        "#14. Write a program to reverse a string using a while loop."
      ],
      "metadata": {
        "id": "5XTOOKibSNSt"
      },
      "execution_count": null,
      "outputs": []
    },
    {
      "cell_type": "code",
      "source": [
        "a= input(\"Enter a string: \")\n",
        "reversed_str=\"\"\n",
        "i= len(s)- 1\n",
        "while i>=0:\n",
        "  reversed_str += a[i]\n",
        "  i -= 1\n",
        "print(\"reversed string:\", reversed_str)"
      ],
      "metadata": {
        "colab": {
          "base_uri": "https://localhost:8080/"
        },
        "id": "AIJyq9JNSWsq",
        "outputId": "b46cbedc-6d23-42ae-f05e-44c69dd7fc90"
      },
      "execution_count": null,
      "outputs": [
        {
          "output_type": "stream",
          "name": "stdout",
          "text": [
            "Enter a string: Debanjali Saha\n",
            "reversed string: eD\n"
          ]
        }
      ]
    },
    {
      "cell_type": "code",
      "source": [
        "#15.  Write a Python program to calculate the factorial of a number provided by the user using a while loop."
      ],
      "metadata": {
        "id": "UHUEBn9jT6zq"
      },
      "execution_count": null,
      "outputs": []
    },
    {
      "cell_type": "code",
      "source": [
        "num = int(input(\"Enter a number: \"))\n",
        "factorial = 1\n",
        "i = 1\n",
        "while i <= num:\n",
        "    factorial *= i\n",
        "    i += 1\n",
        "\n",
        "print(f\"Factorial of {num} is {factorial}\")"
      ],
      "metadata": {
        "colab": {
          "base_uri": "https://localhost:8080/"
        },
        "id": "HJ7LOMx5UDjs",
        "outputId": "4b61431b-f997-4570-a86d-7de69fb70b1a"
      },
      "execution_count": null,
      "outputs": [
        {
          "output_type": "stream",
          "name": "stdout",
          "text": [
            "Enter a number: 5\n",
            "Factorial of 5 is 120\n"
          ]
        }
      ]
    }
  ]
}