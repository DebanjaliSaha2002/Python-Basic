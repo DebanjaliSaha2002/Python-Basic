{
  "nbformat": 4,
  "nbformat_minor": 0,
  "metadata": {
    "colab": {
      "provenance": []
    },
    "kernelspec": {
      "name": "python3",
      "display_name": "Python 3"
    },
    "language_info": {
      "name": "python"
    }
  },
  "cells": [
    {
      "cell_type": "code",
      "execution_count": null,
      "metadata": {
        "id": "H9pzKlMCMH12"
      },
      "outputs": [],
      "source": [
        "# 1.What are data structures, and why are they important?"
      ]
    },
    {
      "cell_type": "markdown",
      "source": [
        "Ans- Data structures are specialized formats for organizing, processing, retrieving, and storing data in a computer's memory. They provide a systematic way to arrange data elements in relation to each other and define the operations that can be performed on them. Essentially, they are blueprints for how data is managed, making it accessible and workable. Examples include arrays, lists, stacks, queues, trees, graphs, and hash tables.\n",
        "       \n",
        "       Importance of Data Structures-\n",
        "Data structures are fundamentally important in computer science and software development for several key reasons:\n",
        " •Problem Solving and Algorithm Design: Data structures are the building blocks for designing effective algorithms. Different problems are best solved with specific data structures (e.g., graphs for network routing, trees for hierarchical data, hash tables for fast lookups). Choosing the right one simplifies the problem-solving process and leads to more optimal solutions.\n",
        "  •Data Management and Abstraction: They enable the effective management of large and complex datasets. They provide a level of abstraction, allowing programmers to work with data in a logical way without needing to worry about the low-level details of memory allocation and access. This leads to cleaner, more maintainable, and more understandable code.\n",
        "  "
      ],
      "metadata": {
        "id": "PD3ba7nDM716"
      }
    },
    {
      "cell_type": "code",
      "source": [
        "# 2.Explain the difference between mutable and immutable data types with examples."
      ],
      "metadata": {
        "id": "jbvc52lkNvgx"
      },
      "execution_count": null,
      "outputs": []
    },
    {
      "cell_type": "markdown",
      "source": [
        "Ans-  1. Mutable Data Types (Can be changed after creation)\n",
        "  •Mutable objects are those whose internal state or content can be altered after they are created. Modifications happen \"in-place,\" meaning the original object itself is changed, and its memory address (identity) typically remains the same.\n",
        "\n",
        "   •Example- Lists in Python are mutable. You can add, remove, or change elements within an existing list.\n",
        "my_list = [10, 20, 30]\n",
        "print(f\"Original list: {my_list}, ID: {id(my_list)}\")\n",
        "my_list[0] = 100\n",
        "my_list.append(40)\n",
        "print(f\"Modified list: {my_list}, ID: {id(my_list)}\")\n",
        "    \n",
        "    2. Immutable Data Types (Cannot be changed after creation)\n",
        "  •Definition: Immutable objects are those whose internal state or content cannot be altered once they are created. Any operation that appears to \"modify\" an immutable object actually results in the creation of a new object in memory with the new value; the original object remains unchanged.\n",
        "\n",
        "     •Example: Strings in Python are immutable. You cannot change a character within an existing string. Operations that transform a string produce a new string.\n",
        "my_string = \"hello\"\n",
        "print(f\"Original string: '{my_string}', ID: {id(my_string)}\")\n",
        "new_string = my_string.upper()\n",
        "print(f\"Original string (unchanged): '{my_string}', ID: {id(my_string)}\")\n",
        "print(f\"New string: '{new_string}', ID: {id(new_string)}\")"
      ],
      "metadata": {
        "id": "ukLQhNjkNxtK"
      }
    },
    {
      "cell_type": "code",
      "source": [
        "# 3.What are the main difference between lists and tuples in python?"
      ],
      "metadata": {
        "id": "JURZoq3gO3Zj"
      },
      "execution_count": null,
      "outputs": []
    },
    {
      "cell_type": "markdown",
      "source": [
        "Ans- 1.Mutability-Lists([])Are mutable. This means that after a list is created, its contents can be changed – elements can be added, removed, or modified in place.\n",
        "  • Tuples (()): Are immutable. Once a tuple is created, its contents cannot be changed. Attempting to modify an element will result in a TypeError. If you need a \"modified\" version, you must create an entirely new tuple.\n",
        "2.Syntax- •Lists: Typically used for collections of items that are homogeneous (though they can be heterogeneous) and are expected to change during the program's execution (e.g., a list of user inputs, tasks to be done). The order of elements is usually significant.\n",
        "•Tuples: Often used to represent fixed collections of items, particularly heterogeneous data that forms a single logical record or structure (e.g., coordinates (x, y), RGB color values (255, 0, 0)). They ensure data integrity for such structures as they cannot be accidentally modified."
      ],
      "metadata": {
        "id": "M_-oZR53PWIO"
      }
    },
    {
      "cell_type": "code",
      "source": [
        "# 4.Describe how dictionaries store data"
      ],
      "metadata": {
        "id": "6_9HUxa6Pd-D"
      },
      "execution_count": null,
      "outputs": []
    },
    {
      "cell_type": "markdown",
      "source": [
        "Ans-  Dictionaries in Python store data as collections of key-value pairs. This mechanism is highly efficient for retrieving values when you know their corresponding key. Internally, this is typically achieved using a data structure called a hash table\n",
        "1.Key-Value Pairs:\n",
        "•Each item in a dictionary consists of two parts: a key and a value.\n",
        "•Keys must be unique within a dictionary and must be of an immutable type (e.g., strings, numbers, tuples containing only immutable elements). This immutability is crucial for the hashing process.\n",
        "•Values can be of any data type (mutable or immutable) and can be duplicated.\n",
        "2.Storing and Retrieving:\n",
        "•Storing: When adding a new item, the key-value pair (or often, a pointer to it) is placed into the bucket determined by the key's hash.\n",
        "•Retrieving: When looking up a key, Python calculates its hash, finds the corresponding bucket, and then searches within that bucket for the exact key to return its associated value"
      ],
      "metadata": {
        "id": "sa-MWDCePl45"
      }
    },
    {
      "cell_type": "code",
      "source": [
        "#5.Why might you use a set instead of a list in python?"
      ],
      "metadata": {
        "id": "EeYztlnOPs-t"
      },
      "execution_count": null,
      "outputs": []
    },
    {
      "cell_type": "markdown",
      "source": [
        "Ans-1. Uniqueness of Elements:\n",
        "Sets automatically ensure that all elements are unique. If you add duplicate items to a set, they are automatically removed. In contrast, lists can contain duplicates unless you manually check for them. This makes sets ideal when you want to store distinct values, such as unique user IDs, unique words in a document, or unique items in a shopping cart.\n",
        "2.Sets come with built-in methods that make it easy to perform set theory operations like union, intersection, difference, and symmetric difference. These operations are concise and optimized in Python's set type, whereas with lists, you’d have to write more code and possibly deal with inefficiencies."
      ],
      "metadata": {
        "id": "aMid55kRQMpZ"
      }
    },
    {
      "cell_type": "code",
      "source": [
        "#6.What is a string in python and how is it different from a list?"
      ],
      "metadata": {
        "id": "3PoS21bSQ847"
      },
      "execution_count": null,
      "outputs": []
    },
    {
      "cell_type": "markdown",
      "source": [
        "Ans- A string in Python is a sequence of characters used to store text data. It is defined by enclosing characters in quotes (single, double, or triple quotes). For example: \"hello\" or 'world'. Strings are immutable, meaning once created, they cannot be changed.\n",
        "The key differences between a string and a list in Python are:\n",
        "\n",
        "1. Data Type:\n",
        "A string stores text (characters), while a list can store any type of elements (numbers, strings, objects, etc.).\n",
        "\n",
        "2. Mutability:\n",
        "Strings are immutable; you can't change characters in place. Lists are mutable; you can modify, add, or remove elements.\n",
        "\n",
        "3. Element Types:\n",
        "Every element in a string is a character, while a list can mix different data types.\n",
        "\n",
        "4. Syntax:\n",
        "Strings use quotes (\" \"), while lists use square brackets ([ ]).\n",
        "\n",
        "5. Operations:\n",
        "Lists support more flexible operations like append, remove, and extend, while strings have text-specific methods like upper(), lower(), and split()."
      ],
      "metadata": {
        "id": "E5QXeN6IRCdb"
      }
    },
    {
      "cell_type": "code",
      "source": [
        "#7.How do tuples ensure data integrity in python?"
      ],
      "metadata": {
        "id": "bABH8c-7RWZr"
      },
      "execution_count": null,
      "outputs": []
    },
    {
      "cell_type": "markdown",
      "source": [
        "Ans- A string in Python is a sequence of characters used to store text data. It is defined by enclosing characters in quotes (single, double, or triple quotes). For example: \"hello\" or 'world'. Strings are immutable, meaning once created, they cannot be changed.\n",
        "\n",
        "The key differences between a string and a list in Python are:\n",
        "1. Data Type:\n",
        "A string stores text (characters), while a list can store any type of elements (numbers, strings, objects, etc.).\n",
        "2. Mutability:\n",
        "Strings are immutable; you can't change characters in place. Lists are mutable; you can modify, add, or remove elements.\n",
        "3. Element Types:\n",
        "Every element in a string is a character, while a list can mix different data types.\n",
        "4. Syntax:\n",
        "Strings use quotes (\" \"), while lists use square brackets ([ ]).\n",
        "5. Operations:\n",
        "Lists support more flexible operations like append, remove, and extend, while strings have text-specific methods like upper(), lower(), and split()."
      ],
      "metadata": {
        "id": "VusCLihuRemD"
      }
    },
    {
      "cell_type": "code",
      "source": [
        "#8.What is hash table, and how does it relate to dictionaries in python?"
      ],
      "metadata": {
        "id": "cUGy_lWWRrNo"
      },
      "execution_count": null,
      "outputs": []
    },
    {
      "cell_type": "markdown",
      "source": [
        "Ans-1.A hash table, also known as a hash map, is a fundamental data structure that implements an associative array, effectively mapping unique keys to their corresponding values. It achieves this by using a hash function to compute an index, often called a hash code or simply a hash, from each key. This hash code then determines the \"bucket\" or slot in an underlying array-like structure where the value (or a reference to it) is stored or can be found. The primary advantage of this approach is highly efficient average-case time complexity for operations like insertion, deletion, and lookup, typically O(1) or constant time.\n",
        "\n",
        "2.Python dictionaries (dict) are directly implemented using hash tables. This underlying hash table structure is precisely why Python dictionaries are so powerful and performant for key-based data access. When you add a key-value pair to a dictionary or retrieve a value using a key (e.g., my_dict[key]), Python calculates the hash of the key to quickly locate the appropriate bucket in its internal hash table. This explains why dictionary keys must be hashable (i.e., immutable, so their hash value remains constant). While hash collisions (different keys hashing to the same bucket) can occur, Python's dictionary implementation uses sophisticated techniques like probing or chaining to resolve them efficiently, maintaining the overall fast performance."
      ],
      "metadata": {
        "id": "HfgsGy2WRxG5"
      }
    },
    {
      "cell_type": "code",
      "source": [
        "#9.Can lists contain different data types in python?"
      ],
      "metadata": {
        "id": "6ElOCovKR7nI"
      },
      "execution_count": null,
      "outputs": []
    },
    {
      "cell_type": "markdown",
      "source": [
        "Ans- Yes, lists in Python can contain different data types. A single list can store integers, strings, floats, booleans, or even other lists and objects all together."
      ],
      "metadata": {
        "id": "tKWELsqWSAe_"
      }
    },
    {
      "cell_type": "code",
      "source": [
        "#10.Explain why strings are immutable in python?"
      ],
      "metadata": {
        "id": "uJ6eEMDiSOPJ"
      },
      "execution_count": null,
      "outputs": []
    },
    {
      "cell_type": "markdown",
      "source": [
        "Ans- Strings are immutable in Python because once a string is created, its contents (the sequence of characters) cannot be changed. This design choice offers several important benefits:\n",
        "1. Data Integrity and Safety:\n",
        "Immutability ensures that strings remain consistent and unchanged, which prevents bugs caused by accidental modification.\n",
        "2. Hashability:\n",
        "Because strings are immutable, they can be used as keys in dictionaries and stored in sets, both of which require hashable (unchanging) objects.\n",
        "3. Performance Optimization:\n",
        "Python can safely reuse string objects internally (called string interning) to save memory and speed up comparisons, because it knows they won’t change.\n",
        "4. Thread-Safety:\n",
        "Immutable objects like strings are naturally safe to use across multiple threads without needing locks, since their state cannot be altered."
      ],
      "metadata": {
        "id": "8Z0c-M4jSQB3"
      }
    },
    {
      "cell_type": "code",
      "source": [
        "#11.What advantages do dictionaries offer over lists for certain tasks?"
      ],
      "metadata": {
        "id": "8HYk7VuxSbCg"
      },
      "execution_count": null,
      "outputs": []
    },
    {
      "cell_type": "markdown",
      "source": [
        "Ans- 1. Fast Lookups:\n",
        "Dictionaries provide O(1) average-time complexity for searching by key, while lists require O(n) time to search through items.\n",
        "2. Key-Value Pair Storage:\n",
        "Dictionaries store data as key-value pairs, making them ideal for tasks where you need to map one piece of data to another (e.g., usernames to user details).\n",
        "3. Readable and Meaningful Access:\n",
        "Accessing data by a meaningful key (like user[\"name\"]) is clearer and more intuitive than using an index (like user_list[0]).\n",
        "4. No Need for Index Management:\n",
        "Unlike lists, dictionaries don’t rely on positions. You don’t have to worry about the order or shifting items when adding or removing elements.\n",
        "5. Unique Keys:\n",
        "Dictionaries ensure that keys are unique, which helps maintain data integrity when mapping relationships."
      ],
      "metadata": {
        "id": "CsdnrDzvSk4S"
      }
    },
    {
      "cell_type": "code",
      "source": [
        "#12.Describe a scenario where using a tuple would be preferable over a list."
      ],
      "metadata": {
        "id": "0uqELVHnS2aq"
      },
      "execution_count": null,
      "outputs": []
    },
    {
      "cell_type": "markdown",
      "source": [
        "Ans- 1.Representing Fixed Collections of Heterogeneous Data (Records):\n",
        "  •Scenario: You want to store a point in 2D space (x, y coordinates) or an RGB color value.\n",
        "  •Tuple: point = (10, 20) or color_red = (255, 0, 0)\n",
        "  •Why Preferable: The number of elements and their meaning are fixed. Immutability ensures these coordinates or color values don't accidentally change. It's a lightweight way to group related items.\n",
        "2.Using as Dictionary Keys:\n",
        "  •Scenario: You want to create a dictionary where the keys are compound, like mapping coordinates to city names.\n",
        "  •Why Preferable: Lists are mutable and therefore not hashable, so they cannot be used as dictionary keys. Tuples (if they contain only immutable elements) are hashable.\n",
        "  •Why Preferable: Lists are mutable and therefore not hashable, so they cannot be used as dictionary keys. Tuples (if they contain only immutable elements) are hashable.\n",
        "3.Ensuring Data Integrity for Constants:\n",
        "  •Scenario: You have a collection of constants that should never change during program execution, for example, a set of allowed option flags.\n",
        "  •Tuple: ALLOWED_MODES = (\"read\", \"write\", \"append\")\n",
        "  •Why Preferable: Immutability guarantees these predefined values won't be modified, preventing potential bug"
      ],
      "metadata": {
        "id": "C46lFi0hS8Eo"
      }
    },
    {
      "cell_type": "code",
      "source": [
        "#13.How do sets handle duplicate values in Python?"
      ],
      "metadata": {
        "id": "T_68lt8HTEeS"
      },
      "execution_count": null,
      "outputs": []
    },
    {
      "cell_type": "markdown",
      "source": [
        "Ans-In Python, sets automatically eliminate duplicate values. A set is an unordered collection of unique elements. If you try to add duplicates to a set, only one copy will be stored."
      ],
      "metadata": {
        "id": "s2BKALWRTKFG"
      }
    },
    {
      "cell_type": "code",
      "source": [
        "#14.How does the \"in\" keyword work differently for lists and dictionaries?"
      ],
      "metadata": {
        "id": "lfu8gmNgTObn"
      },
      "execution_count": null,
      "outputs": []
    },
    {
      "cell_type": "markdown",
      "source": [
        "Ans-the in keyword behaves slightly differently for lists and dictionaries in Python:\n",
        "For lists:-\n",
        "in checks whether the given value exists among the list’s elements.\n",
        "Example:\n",
        "my_list = [1, 2, 3]\n",
        "print(2 in my_list)  # True\n",
        "print(5 in my_list)  # False\n",
        "For dictionaries:\n",
        "in checks whether the given value exists among the dictionary’s keys (not values).\n",
        "Example:\n",
        "my_dict = {'a': 1, 'b': 2}\n",
        "print('a' in my_dict)  # True  (checks key)\n",
        "print(1 in my_dict)    # False (1 is a value, not a key)"
      ],
      "metadata": {
        "id": "d8CPh6YeTXb4"
      }
    },
    {
      "cell_type": "code",
      "source": [
        "#15.Can you modify the elements of a tuple? Explain why or why not."
      ],
      "metadata": {
        "id": "LqTgQoXiTew1"
      },
      "execution_count": null,
      "outputs": []
    },
    {
      "cell_type": "markdown",
      "source": [
        "Ans-No, you cannot modify the elements of a tuple in Python. Tuples are immutable, meaning once they are created, their elements cannot be changed, added to, or removed.\n",
        "Example:\n",
        "my_tuple = (1, 2, 3)\n",
        "my_tuple[0] = 10  # This will raise an error\n",
        "Output:\n",
        "TypeError: 'tuple' object does not support item assignment\n",
        "Why?\n",
        "Tuples are designed to be immutable for several reasons:\n",
        "They can be used as keys in dictionaries (since only immutable types can be keys).\n",
        "They help ensure data integrity (useful when you want to create fixed records).\n",
        "They can be more memory-efficient and faster than lists in some cases.\n",
        "However, note: while the tuple itself is immutable, if it contains a mutable object (like a list), that object can be modified.\n",
        "Example:\n",
        "my_tuple = (1, [2, 3])\n",
        "my_tuple[1].append(4)  # This is allowed\n",
        "print(my_tuple)  # Output: (1, [2, 3, 4])\n"
      ],
      "metadata": {
        "id": "ez0hdZ0ETnEK"
      }
    },
    {
      "cell_type": "code",
      "source": [
        "#16.What is a nested dictionary, and give an example of its use case?"
      ],
      "metadata": {
        "id": "UJmAQ6afT-Mx"
      },
      "execution_count": null,
      "outputs": []
    },
    {
      "cell_type": "markdown",
      "source": [
        "Ans- A nested dictionary in Python is a dictionary where values themselves are dictionaries. It’s like a dictionary inside another dictionary. This is useful when you want to model more complex, hierarchical, or structured data.\n",
        "Use Case:\n",
        "  •The outer dictionary employees uses employee IDs as keys.\n",
        "  •The value for each employee ID is another dictionary containing attributes like name, department, position, and contact.\n",
        "  •The contact attribute itself is a nested dictionary containing email and phone.\n",
        "This structure allows for a well-organized way to store and retrieve complex, multi-level information. Other use cases include JSON-like data structures, configuration files, and representing tree-like data."
      ],
      "metadata": {
        "id": "0Twbprb-UCKg"
      }
    },
    {
      "cell_type": "code",
      "source": [
        "#17.Describe the time complexity of accessing elements in a dictionary"
      ],
      "metadata": {
        "id": "-lyAeMQaUHdx"
      },
      "execution_count": null,
      "outputs": []
    },
    {
      "cell_type": "markdown",
      "source": [
        "Ans-Accessing elements (retrieving a value by its key) in a dictionary is, on average, O(1), which means constant time. This is because dictionaries are typically implemented using hash tables. The key is hashed to find its location directly.\n",
        "In the worst-case scenario (e.g., many hash collisions where different keys hash to the same bucket), the time complexity can degrade to O(n), where n is the number of items in the dictionary, as it might require iterating through the elements in a bucket. However, good hash functions and resizing strategies make this worst-case scenario rare in practice."
      ],
      "metadata": {
        "id": "VlioilWUULDO"
      }
    },
    {
      "cell_type": "code",
      "source": [
        "#18.In what situations are lists preferred over dictionaries?"
      ],
      "metadata": {
        "id": "eWZWGOWdUQX0"
      },
      "execution_count": null,
      "outputs": []
    },
    {
      "cell_type": "markdown",
      "source": [
        "Ans- 1.Order matters: You need to maintain a collection of items in a specific sequence, and the order of insertion or arrangement is important.\n",
        "2.Access by numerical index: You need to access elements by their position (e.g., the 0th item, 1st item, etc.).\n",
        "3.Collection of homogeneous items (often): While Python lists can store heterogeneous items, they are often used for sequences of similar data types where you might iterate through all of them.\n",
        "4.Duplicates are allowed and meaningful: Lists allow duplicate values, and each instance is preserved.\n",
        "5.Simple sequential storage: When you simply need to store a collection of items without needing a specific key to look them up."
      ],
      "metadata": {
        "id": "b25UUVfEUUsG"
      }
    },
    {
      "cell_type": "code",
      "source": [
        "#19.Why are dictionaries considered unordered, and how does that affect data retrieval?"
      ],
      "metadata": {
        "id": "1jVEjzdkUbOe"
      },
      "execution_count": null,
      "outputs": []
    },
    {
      "cell_type": "markdown",
      "source": [
        "Ans- Historically (before Python 3.7, with CPython 3.6 being an implementation detail), dictionaries were considered unordered because the order in which key-value pairs were stored was not guaranteed to be the same as the order in which they were inserted. This was due to the nature of hash table implementations, where the storage location depends on the hash of the key.\n",
        "    •Effect on data retrieval:\n",
        "1.No direct effect on key-based retrieval: The \"unordered\" nature did not affect your ability to retrieve a value if you knew its key (e.g., my_dict['my_key']). This retrieval was still (on average) O(1).\n",
        "2.Effect on iteration: You could not rely on the order of items when iterating through the dictionary (e.g., using a for loop or dict.items()). The items would appear in an arbitrary order that could change with insertions and deletions.\n",
        "3.No index-based access: You could not access elements by a numerical index (like my_dict[0]) because there was no inherent \"first\" or \"second\" item in a fixed sense"
      ],
      "metadata": {
        "id": "UqdjOvf8Ufdv"
      }
    },
    {
      "cell_type": "code",
      "source": [
        "#20.Explain the difference between a list and a dictionary in terms of data retrieval."
      ],
      "metadata": {
        "id": "YloyolSeUkGd"
      },
      "execution_count": null,
      "outputs": []
    },
    {
      "cell_type": "markdown",
      "source": [
        "Ans- List: Data is retrieved by index. A list is an ordered collection, and each item has a position (starting at 0). To get an item, you provide its numeric index. For example:\n",
        "\n",
        "my_list = ['apple', 'banana', 'cherry']\n",
        "print(my_list[1])  # Output: 'banana'\n",
        "Dictionary: Data is retrieved by key. A dictionary stores key-value pairs, and you access values by using their corresponding keys (not by position).\n",
        "\n",
        "For example:\n",
        "my_dict = {'a': 'apple', 'b': 'banana', 'c': 'cherry'}\n",
        "print(my_dict['b'])  # Output: 'banana'"
      ],
      "metadata": {
        "id": "sBqIGnENUovY"
      }
    },
    {
      "cell_type": "code",
      "source": [
        "# PRACTICAL"
      ],
      "metadata": {
        "id": "5KGe36dNVAqQ"
      },
      "execution_count": null,
      "outputs": []
    },
    {
      "cell_type": "code",
      "source": [
        "# 1.Write a code to create a string with your name and print"
      ],
      "metadata": {
        "id": "sHdzuh02VMFP"
      },
      "execution_count": null,
      "outputs": []
    },
    {
      "cell_type": "code",
      "source": [
        "my_name=\"Debanjali Saha\"\n",
        "print(my_name)"
      ],
      "metadata": {
        "colab": {
          "base_uri": "https://localhost:8080/"
        },
        "id": "0cFVbOxyV-tu",
        "outputId": "61d1107f-5e66-4911-b999-3c763dd375c0"
      },
      "execution_count": 1,
      "outputs": [
        {
          "output_type": "stream",
          "name": "stdout",
          "text": [
            "Debanjali Saha\n"
          ]
        }
      ]
    },
    {
      "cell_type": "code",
      "source": [
        "# 2.Write a code to find the length of the string \"Hello World\""
      ],
      "metadata": {
        "id": "yHslIEeEWR_Y"
      },
      "execution_count": null,
      "outputs": []
    },
    {
      "cell_type": "code",
      "source": [
        "my_string=\"Hello World\"\n",
        "print(len(my_string))"
      ],
      "metadata": {
        "colab": {
          "base_uri": "https://localhost:8080/"
        },
        "id": "Z2fJrVGMWcCk",
        "outputId": "a5a60d88-b6b0-48fc-c7b4-8df8eb252632"
      },
      "execution_count": 3,
      "outputs": [
        {
          "output_type": "stream",
          "name": "stdout",
          "text": [
            "11\n"
          ]
        }
      ]
    },
    {
      "cell_type": "code",
      "source": [
        "# 3.Write a code to slice the first 3 characters from the string \"Python Programming\""
      ],
      "metadata": {
        "id": "SuwtZPm_W0CM"
      },
      "execution_count": null,
      "outputs": []
    },
    {
      "cell_type": "code",
      "source": [
        "text=\"Python Programming\"\n",
        "sliced_text= text[:3]\n",
        "print(sliced_text)"
      ],
      "metadata": {
        "colab": {
          "base_uri": "https://localhost:8080/"
        },
        "id": "osfPlNyXXCAr",
        "outputId": "5205af6d-5e83-4140-e8d4-f22ee68629cb"
      },
      "execution_count": 4,
      "outputs": [
        {
          "output_type": "stream",
          "name": "stdout",
          "text": [
            "Pyt\n"
          ]
        }
      ]
    },
    {
      "cell_type": "code",
      "source": [
        "# 4.Write a code to convert the string \"hello\" to uppercase"
      ],
      "metadata": {
        "id": "MtZB0EauX4cG"
      },
      "execution_count": null,
      "outputs": []
    },
    {
      "cell_type": "code",
      "source": [
        "string=\"hello\"\n",
        "uppercase_string=string.upper()\n",
        "print(uppercase_string)\n"
      ],
      "metadata": {
        "colab": {
          "base_uri": "https://localhost:8080/"
        },
        "id": "x2tMa6QiYByk",
        "outputId": "ee0cc1ea-d58e-4c10-e470-16a6bcb9d76e"
      },
      "execution_count": 6,
      "outputs": [
        {
          "output_type": "stream",
          "name": "stdout",
          "text": [
            "HELLO\n"
          ]
        }
      ]
    },
    {
      "cell_type": "code",
      "source": [
        "# 5.Write a code to replace the word \"apple\" with \"orange\" in the string \"I like apple\""
      ],
      "metadata": {
        "id": "mEgPQn27Yg_w"
      },
      "execution_count": null,
      "outputs": []
    },
    {
      "cell_type": "code",
      "source": [
        "string =\"I like apple\"\n",
        "new_string= string.replace(\"apple\",\"orange\")\n",
        "print(new_string)"
      ],
      "metadata": {
        "colab": {
          "base_uri": "https://localhost:8080/"
        },
        "id": "Y2gwb1VJYuRF",
        "outputId": "58ea0348-a68e-4868-9a19-edc926cbe0af"
      },
      "execution_count": 7,
      "outputs": [
        {
          "output_type": "stream",
          "name": "stdout",
          "text": [
            "I like orange\n"
          ]
        }
      ]
    },
    {
      "cell_type": "code",
      "source": [
        "# 6.Write a code to create a list with numbers 1 to 5 and print it."
      ],
      "metadata": {
        "id": "fezgQq59ZJqu"
      },
      "execution_count": null,
      "outputs": []
    },
    {
      "cell_type": "code",
      "source": [
        "numbers=[1,2,3,4,5]\n",
        "print(numbers)"
      ],
      "metadata": {
        "colab": {
          "base_uri": "https://localhost:8080/"
        },
        "id": "VgZr4ZPOZUXY",
        "outputId": "aa1d88f4-4f69-4108-e927-4139754899a1"
      },
      "execution_count": 8,
      "outputs": [
        {
          "output_type": "stream",
          "name": "stdout",
          "text": [
            "[1, 2, 3, 4, 5]\n"
          ]
        }
      ]
    },
    {
      "cell_type": "code",
      "source": [
        "# 7.Write a code to append the number 10 to the list [1, 2, 3, 4]."
      ],
      "metadata": {
        "id": "J3Kpq_fNZiPl"
      },
      "execution_count": null,
      "outputs": []
    },
    {
      "cell_type": "code",
      "source": [
        "numbers=[1,2,3,4,]\n",
        "numbers.append(10)\n",
        "print(numbers)"
      ],
      "metadata": {
        "colab": {
          "base_uri": "https://localhost:8080/"
        },
        "id": "FjkIFKFUZnYa",
        "outputId": "1c9737b0-9051-4d03-aa01-9cb1f2302864"
      },
      "execution_count": 12,
      "outputs": [
        {
          "output_type": "stream",
          "name": "stdout",
          "text": [
            "[1, 2, 3, 4, 10]\n"
          ]
        }
      ]
    },
    {
      "cell_type": "code",
      "source": [
        "# 8.Write a code to remove the number 3 from the list [1, 2, 3, 4, 5]"
      ],
      "metadata": {
        "id": "1YC4JGJOZ-F6"
      },
      "execution_count": null,
      "outputs": []
    },
    {
      "cell_type": "code",
      "source": [
        "numbers=[1,2,3,4,5]\n",
        "numbers.remove(3)\n",
        "print(numbers)"
      ],
      "metadata": {
        "colab": {
          "base_uri": "https://localhost:8080/"
        },
        "id": "lMiGmbysaFif",
        "outputId": "6799b749-e01c-4469-ec3d-4a26ef55d1be"
      },
      "execution_count": 13,
      "outputs": [
        {
          "output_type": "stream",
          "name": "stdout",
          "text": [
            "[1, 2, 4, 5]\n"
          ]
        }
      ]
    },
    {
      "cell_type": "code",
      "source": [
        "# 9.Write a code to access the second element in the list ['a', 'b', 'c', 'd']"
      ],
      "metadata": {
        "id": "r6KekdP4aWZ4"
      },
      "execution_count": null,
      "outputs": []
    },
    {
      "cell_type": "code",
      "source": [
        "letters=['a','b','c','d']\n",
        "second_element= letters[1]\n",
        "print(second_element)"
      ],
      "metadata": {
        "colab": {
          "base_uri": "https://localhost:8080/"
        },
        "id": "ebayFqLUafxT",
        "outputId": "c7fea6fb-2de4-4f51-a36f-cd306a61f584"
      },
      "execution_count": 14,
      "outputs": [
        {
          "output_type": "stream",
          "name": "stdout",
          "text": [
            "b\n"
          ]
        }
      ]
    },
    {
      "cell_type": "code",
      "source": [
        "# 10. Write a code to reverse the list [10, 20, 30, 40, 50]."
      ],
      "metadata": {
        "id": "zlCg0wJtbJxJ"
      },
      "execution_count": null,
      "outputs": []
    },
    {
      "cell_type": "code",
      "source": [
        "numbers=[10,20,30,40,50]\n",
        "numbers.reverse()\n",
        "print(numbers)"
      ],
      "metadata": {
        "colab": {
          "base_uri": "https://localhost:8080/"
        },
        "id": "L8uDhqOJbPrC",
        "outputId": "e5045c30-c147-4289-ec8b-8275826c4f2b"
      },
      "execution_count": 15,
      "outputs": [
        {
          "output_type": "stream",
          "name": "stdout",
          "text": [
            "[50, 40, 30, 20, 10]\n"
          ]
        }
      ]
    },
    {
      "cell_type": "code",
      "source": [
        "# 11.Write a code to create a tuple with the elements 100, 200, 300 and print it."
      ],
      "metadata": {
        "id": "kIe89rKgbdmK"
      },
      "execution_count": null,
      "outputs": []
    },
    {
      "cell_type": "code",
      "source": [
        "my_tuples=(100,200,300)\n",
        "print(my_tuples)"
      ],
      "metadata": {
        "colab": {
          "base_uri": "https://localhost:8080/"
        },
        "id": "CESoob1xbkXo",
        "outputId": "8cc664de-b432-4af9-b0fa-32639b28ee0a"
      },
      "execution_count": 17,
      "outputs": [
        {
          "output_type": "stream",
          "name": "stdout",
          "text": [
            "(100, 200, 300)\n"
          ]
        }
      ]
    },
    {
      "cell_type": "code",
      "source": [
        "# 12.Write a code to access the second-to-last element of the tuple ('red', 'green', 'blue', 'yellow')."
      ],
      "metadata": {
        "id": "jSOQ_76IcYF4"
      },
      "execution_count": null,
      "outputs": []
    },
    {
      "cell_type": "code",
      "source": [
        "colors=('red','green','blue','yellow')\n",
        "second_to_last=colors[-2]\n",
        "print(second_to_last)"
      ],
      "metadata": {
        "colab": {
          "base_uri": "https://localhost:8080/"
        },
        "id": "cHSBh-Fpce0y",
        "outputId": "e4d9549f-c68f-4d15-c4eb-e071793cd492"
      },
      "execution_count": 18,
      "outputs": [
        {
          "output_type": "stream",
          "name": "stdout",
          "text": [
            "blue\n"
          ]
        }
      ]
    },
    {
      "cell_type": "code",
      "source": [
        "# 13. Write a code to find the minimum number in the tuple (10, 20, 5, 15)."
      ],
      "metadata": {
        "id": "_tyPphCac6eA"
      },
      "execution_count": null,
      "outputs": []
    },
    {
      "cell_type": "code",
      "source": [
        "numbers=(10,20,5,15)\n",
        "min_number=min(numbers)\n",
        "print(min_number)"
      ],
      "metadata": {
        "colab": {
          "base_uri": "https://localhost:8080/"
        },
        "id": "4RpvdC4PdBUs",
        "outputId": "fb2a703f-5ff4-4d80-8671-f0150579a296"
      },
      "execution_count": 19,
      "outputs": [
        {
          "output_type": "stream",
          "name": "stdout",
          "text": [
            "5\n"
          ]
        }
      ]
    },
    {
      "cell_type": "code",
      "source": [
        "# 14.Write a code to find the index of the element \"cat\" in the tuple ('dog', 'cat', 'rabbit')."
      ],
      "metadata": {
        "id": "CFsZO7M1dbsA"
      },
      "execution_count": null,
      "outputs": []
    },
    {
      "cell_type": "code",
      "source": [
        "animals=('dog','cat','rabbit')\n",
        "index_of_cat= animals.index('cat')\n",
        "print(index_of_cat)"
      ],
      "metadata": {
        "colab": {
          "base_uri": "https://localhost:8080/"
        },
        "id": "7-ug9_TRdgUx",
        "outputId": "1af3322d-88cb-4304-fa8e-bf4713829cc5"
      },
      "execution_count": 20,
      "outputs": [
        {
          "output_type": "stream",
          "name": "stdout",
          "text": [
            "1\n"
          ]
        }
      ]
    },
    {
      "cell_type": "code",
      "source": [
        "# 15. Write a code to create a tuple containing three different fruits and check if \"kiwi\" is in it."
      ],
      "metadata": {
        "id": "Jo0Pqnqyd5H0"
      },
      "execution_count": null,
      "outputs": []
    },
    {
      "cell_type": "code",
      "source": [
        "fruits=('apple','banana','orange')\n",
        "if 'kiwi' in fruits:\n",
        "    print(\"kiwi is in the tuple\")\n",
        "else:\n",
        "    print(\"kiwi is not in the tuple\")"
      ],
      "metadata": {
        "colab": {
          "base_uri": "https://localhost:8080/"
        },
        "id": "VKnMe8lfd-fT",
        "outputId": "56415313-ec06-4d61-8f01-f3a37f219d1e"
      },
      "execution_count": 21,
      "outputs": [
        {
          "output_type": "stream",
          "name": "stdout",
          "text": [
            "kiwi is not in the tuple\n"
          ]
        }
      ]
    },
    {
      "cell_type": "code",
      "source": [
        "# 16.Write a code to create a set with the elements 'a', 'b', 'c' and print it"
      ],
      "metadata": {
        "id": "dCl9cTjLexPd"
      },
      "execution_count": null,
      "outputs": []
    },
    {
      "cell_type": "code",
      "source": [
        "my_set={'a','b','c'}\n",
        "print(my_set)"
      ],
      "metadata": {
        "colab": {
          "base_uri": "https://localhost:8080/"
        },
        "id": "qAJPMuVXe4VP",
        "outputId": "7d03d9cf-f3d4-4eaf-afc1-78bf5ce0b066"
      },
      "execution_count": 27,
      "outputs": [
        {
          "output_type": "stream",
          "name": "stdout",
          "text": [
            "{'b', 'c', 'a'}\n"
          ]
        }
      ]
    },
    {
      "cell_type": "code",
      "source": [
        "# 17.Write a code to clear all elements from the set {1, 2, 3, 4, 5}."
      ],
      "metadata": {
        "id": "819Pbo15fUdl"
      },
      "execution_count": null,
      "outputs": []
    },
    {
      "cell_type": "code",
      "source": [
        "numbers={1,2,3,4,5}\n",
        "numbers.clear()\n",
        "print(numbers)"
      ],
      "metadata": {
        "colab": {
          "base_uri": "https://localhost:8080/"
        },
        "id": "nchPtfxUfbTq",
        "outputId": "93d37695-fa86-4878-fb82-4749b84795b9"
      },
      "execution_count": 28,
      "outputs": [
        {
          "output_type": "stream",
          "name": "stdout",
          "text": [
            "set()\n"
          ]
        }
      ]
    },
    {
      "cell_type": "code",
      "source": [
        "# 18.Write a code to remove the element 4 from the set {1, 2, 3, 4}."
      ],
      "metadata": {
        "id": "yPPRrDDqfujH"
      },
      "execution_count": null,
      "outputs": []
    },
    {
      "cell_type": "code",
      "source": [
        "numbers={1,2,3,4}\n",
        "numbers.remove(4)\n",
        "print(numbers)"
      ],
      "metadata": {
        "colab": {
          "base_uri": "https://localhost:8080/"
        },
        "id": "ckU0dHaYf1Ia",
        "outputId": "e6acacd9-d7d5-4e98-c6f0-a8a2b8d616d1"
      },
      "execution_count": 29,
      "outputs": [
        {
          "output_type": "stream",
          "name": "stdout",
          "text": [
            "{1, 2, 3}\n"
          ]
        }
      ]
    },
    {
      "cell_type": "code",
      "source": [
        "# 19.Write a code to find the union of two sets {1, 2, 3} and {3, 4, 5}."
      ],
      "metadata": {
        "id": "CtTVy3HogBM_"
      },
      "execution_count": null,
      "outputs": []
    },
    {
      "cell_type": "code",
      "source": [
        "set1={1,2,3}\n",
        "set2={3,4,5}\n",
        "union_set=set1.union(set2)\n",
        "print(union_set)"
      ],
      "metadata": {
        "colab": {
          "base_uri": "https://localhost:8080/"
        },
        "id": "TriDbBYDgG6p",
        "outputId": "3f7eb183-a8ca-4fcd-b240-0c8f0426bd81"
      },
      "execution_count": 30,
      "outputs": [
        {
          "output_type": "stream",
          "name": "stdout",
          "text": [
            "{1, 2, 3, 4, 5}\n"
          ]
        }
      ]
    },
    {
      "cell_type": "code",
      "source": [
        "# 20. Write a code to find the intersection of two sets {1, 2, 3} and {2, 3, 4}."
      ],
      "metadata": {
        "id": "FKApgmy9g0UI"
      },
      "execution_count": null,
      "outputs": []
    },
    {
      "cell_type": "code",
      "source": [
        "set1={1,2,3}\n",
        "set2={2,3,4}\n",
        "intersection_set=set1.intersection(set2)\n",
        "print(intersection_set)"
      ],
      "metadata": {
        "colab": {
          "base_uri": "https://localhost:8080/"
        },
        "id": "rlseaOeFg7DG",
        "outputId": "9bf2680d-d841-465c-bb3d-4893f56f8e4b"
      },
      "execution_count": 31,
      "outputs": [
        {
          "output_type": "stream",
          "name": "stdout",
          "text": [
            "{2, 3}\n"
          ]
        }
      ]
    },
    {
      "cell_type": "code",
      "source": [
        "# 21. Write a code to create a dictionary with the keys \"name\", \"age\", and \"city\", and print it."
      ],
      "metadata": {
        "id": "RfXwP_MYhUV_"
      },
      "execution_count": null,
      "outputs": []
    },
    {
      "cell_type": "code",
      "source": [
        "person={\n",
        "    \"name\":\"Debanjali\",\n",
        "    \"age\":22,\n",
        "    \"city\":\"kolkata\"}\n",
        "print(person)"
      ],
      "metadata": {
        "colab": {
          "base_uri": "https://localhost:8080/"
        },
        "id": "wyMwPJ5Whanv",
        "outputId": "67845dbd-79af-4d66-eacd-e72f0a559587"
      },
      "execution_count": 39,
      "outputs": [
        {
          "output_type": "stream",
          "name": "stdout",
          "text": [
            "{'name': 'Debanjali', 'age': 22, 'city': 'kolkata'}\n"
          ]
        }
      ]
    },
    {
      "cell_type": "code",
      "source": [
        "# 22. Write a code to add a new key-value pair \"country\": \"USA\" to the dictionary {'name': 'John', 'age': 25}."
      ],
      "metadata": {
        "id": "u0o9NnL2imwq"
      },
      "execution_count": null,
      "outputs": []
    },
    {
      "cell_type": "code",
      "source": [
        "person={'name':'john','age':25}\n",
        "person['country']='USA'\n",
        "print(person)"
      ],
      "metadata": {
        "colab": {
          "base_uri": "https://localhost:8080/"
        },
        "id": "rpdskRSUivLG",
        "outputId": "8dddf915-f53e-4bce-a57e-15785bce93ef"
      },
      "execution_count": 40,
      "outputs": [
        {
          "output_type": "stream",
          "name": "stdout",
          "text": [
            "{'name': 'john', 'age': 25, 'country': 'USA'}\n"
          ]
        }
      ]
    },
    {
      "cell_type": "code",
      "source": [
        "# 23.Write a code to access the value associated with the key \"name\" in the dictionary {'name': 'Alice', 'age': 30}."
      ],
      "metadata": {
        "id": "O3Bwqb7SjRrP"
      },
      "execution_count": null,
      "outputs": []
    },
    {
      "cell_type": "code",
      "source": [
        "person={'name':'Alice','age':30}\n",
        "name_value=person['name']\n",
        "print(name_value)"
      ],
      "metadata": {
        "colab": {
          "base_uri": "https://localhost:8080/"
        },
        "id": "ud2keXCejdY9",
        "outputId": "f2a315c6-105b-4321-adce-ae723276aa47"
      },
      "execution_count": 41,
      "outputs": [
        {
          "output_type": "stream",
          "name": "stdout",
          "text": [
            "Alice\n"
          ]
        }
      ]
    },
    {
      "cell_type": "code",
      "source": [
        "# 24.Write a code to remove the key \"age\" from the dictionary {'name': 'Bob', 'age': 22, 'city': 'New York'}."
      ],
      "metadata": {
        "id": "-dNMS-FUj87s"
      },
      "execution_count": null,
      "outputs": []
    },
    {
      "cell_type": "code",
      "source": [
        "person = {'name': 'Bob', 'age': 22, 'city': 'New York'}\n",
        "del person['age']\n",
        "print(person)"
      ],
      "metadata": {
        "colab": {
          "base_uri": "https://localhost:8080/"
        },
        "id": "k11u3PackE-B",
        "outputId": "8b5d3c60-ad43-4e67-f142-e1b67944f57d"
      },
      "execution_count": 42,
      "outputs": [
        {
          "output_type": "stream",
          "name": "stdout",
          "text": [
            "{'name': 'Bob', 'city': 'New York'}\n"
          ]
        }
      ]
    },
    {
      "cell_type": "code",
      "source": [
        "# 25.Write a code to check if the key \"city\" exists in the dictionary {'name': 'Alice', 'city': 'Paris'}."
      ],
      "metadata": {
        "id": "ggicgc0gkWbF"
      },
      "execution_count": null,
      "outputs": []
    },
    {
      "cell_type": "code",
      "source": [
        "person = {'name': 'Alice', 'city': 'Paris'}\n",
        "if 'city' in person:\n",
        "    print(\"The key 'city' exists in the dictionary.\")\n",
        "else:\n",
        "    print(\"The key 'city' does not exist in the dictionary.\")"
      ],
      "metadata": {
        "colab": {
          "base_uri": "https://localhost:8080/"
        },
        "id": "IH32ZC_1kctn",
        "outputId": "3a9acc7c-8833-4701-d827-14c539a5121c"
      },
      "execution_count": 43,
      "outputs": [
        {
          "output_type": "stream",
          "name": "stdout",
          "text": [
            "The key 'city' exists in the dictionary.\n"
          ]
        }
      ]
    },
    {
      "cell_type": "code",
      "source": [
        "# 26.Write a code to create a list, a tuple, and a dictionary, and print them all."
      ],
      "metadata": {
        "id": "a7w3YxOWktiy"
      },
      "execution_count": null,
      "outputs": []
    },
    {
      "cell_type": "code",
      "source": [
        "my_list = [1, 2, 3, 4, 5]\n",
        "my_tuple = ('apple', 'banana', 'cherry')\n",
        "my_dict = {'name': 'Debanjali', 'age': 22, 'city': 'kolkata'}\n",
        "print(\"List:\", my_list)\n",
        "print(\"Tuple:\", my_tuple)\n",
        "print(\"Dictionary:\", my_dict)\n"
      ],
      "metadata": {
        "colab": {
          "base_uri": "https://localhost:8080/"
        },
        "id": "eG_jmF28k0Mb",
        "outputId": "75d4750d-6d02-4f80-8f0d-a82b10b09db9"
      },
      "execution_count": 45,
      "outputs": [
        {
          "output_type": "stream",
          "name": "stdout",
          "text": [
            "List: [1, 2, 3, 4, 5]\n",
            "Tuple: ('apple', 'banana', 'cherry')\n",
            "Dictionary: {'name': 'Debanjali', 'age': 22, 'city': 'kolkata'}\n"
          ]
        }
      ]
    },
    {
      "cell_type": "code",
      "source": [
        "# 27.Write a code to create a list of 5 random numbers between 1 and 100, sort it in ascending order, and print the\n",
        "result.(replaced)"
      ],
      "metadata": {
        "id": "mOPpDADklPlg"
      },
      "execution_count": null,
      "outputs": []
    },
    {
      "cell_type": "code",
      "source": [
        "import random\n",
        "random_numbers = [random.randint(1, 100) for _ in range(5)]\n",
        "random_numbers.sort()\n",
        "print(random_numbers)"
      ],
      "metadata": {
        "colab": {
          "base_uri": "https://localhost:8080/"
        },
        "id": "wI2xk-5hlVab",
        "outputId": "e894d62b-12aa-4738-a0c1-d1fb8e724b89"
      },
      "execution_count": 46,
      "outputs": [
        {
          "output_type": "stream",
          "name": "stdout",
          "text": [
            "[10, 19, 26, 37, 94]\n"
          ]
        }
      ]
    },
    {
      "cell_type": "code",
      "source": [
        "# 28.Write a code to create a list with strings and print the element at the third index."
      ],
      "metadata": {
        "id": "xxIebWJxlxDq"
      },
      "execution_count": null,
      "outputs": []
    },
    {
      "cell_type": "code",
      "source": [
        "my_list = ['apple', 'banana', 'cherry', 'date', 'elderberry']\n",
        "print(my_list[3])"
      ],
      "metadata": {
        "colab": {
          "base_uri": "https://localhost:8080/"
        },
        "id": "RDC3Djfsl3s7",
        "outputId": "9a9a5a62-e5f5-4d24-8cba-fc51026e0fa8"
      },
      "execution_count": 47,
      "outputs": [
        {
          "output_type": "stream",
          "name": "stdout",
          "text": [
            "date\n"
          ]
        }
      ]
    },
    {
      "cell_type": "code",
      "source": [
        "# 29.Write a code to combine two dictionaries into one and print the result."
      ],
      "metadata": {
        "id": "ghNgSAfBmGj-"
      },
      "execution_count": null,
      "outputs": []
    },
    {
      "cell_type": "code",
      "source": [
        "dict1 = {'name': 'Debanjali', 'age': 22}\n",
        "dict2 = {'city': 'kolkata', 'job': 'lab technologist'}\n",
        "combined_dict = {**dict1, **dict2}\n",
        "print(combined_dict)"
      ],
      "metadata": {
        "colab": {
          "base_uri": "https://localhost:8080/"
        },
        "id": "hSTXBsSAmK2s",
        "outputId": "ef64cb07-2ed4-4f24-96c4-00a22e66d967"
      },
      "execution_count": 48,
      "outputs": [
        {
          "output_type": "stream",
          "name": "stdout",
          "text": [
            "{'name': 'Debanjali', 'age': 22, 'city': 'kolkata', 'job': 'lab technologist'}\n"
          ]
        }
      ]
    },
    {
      "cell_type": "code",
      "source": [
        "# 30. Write a code to convert a list of strings into a set"
      ],
      "metadata": {
        "id": "GYYeUW6hmpbW"
      },
      "execution_count": null,
      "outputs": []
    },
    {
      "cell_type": "code",
      "source": [
        "string_list = ['apple', 'banana', 'cherry', 'apple']\n",
        "string_set = set(string_list)\n",
        "print(string_set)"
      ],
      "metadata": {
        "colab": {
          "base_uri": "https://localhost:8080/"
        },
        "id": "auEQTHoemuDT",
        "outputId": "7c986281-0c4a-4c6b-dd80-f86897ac89a1"
      },
      "execution_count": 49,
      "outputs": [
        {
          "output_type": "stream",
          "name": "stdout",
          "text": [
            "{'banana', 'apple', 'cherry'}\n"
          ]
        }
      ]
    }
  ]
}